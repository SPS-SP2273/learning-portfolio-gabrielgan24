{
 "cells": [
  {
   "cell_type": "markdown",
   "id": "123456",
   "metadata": {},
   "source": [
    "<div style=\"text-align:left;font-size:2em\"><span style=\"font-weight:bolder;font-size:1.25em\">SP2273 | Learning Portfolio</span><br><br><span style=\"font-weight:bold;color:darkred\">Files, Folders and OS (Need)</span></div>"
   ]
  },
  {
   "cell_type": "markdown",
   "id": "77187310",
   "metadata": {},
   "source": [
    "## 1 Important concepts"
   ]
  },
  {
   "cell_type": "markdown",
   "id": "f7ede257",
   "metadata": {},
   "source": [
    "### 1.1 Path"
   ]
  },
  {
   "cell_type": "code",
   "execution_count": null,
   "id": "7cb490b1",
   "metadata": {},
   "outputs": [],
   "source": [
    "\n",
    "# tells us how to find a file/folder\n"
   ]
  },
  {
   "cell_type": "markdown",
   "id": "6296ef30",
   "metadata": {},
   "source": [
    "### 1.2 More about relative paths"
   ]
  },
  {
   "cell_type": "code",
   "execution_count": 1,
   "id": "00a9db30",
   "metadata": {},
   "outputs": [],
   "source": [
    "\n",
    "#. ==> 'this folder'\n",
    "#. . ==> 'one folder above'\n",
    "\n",
    "#FOR MAC ==> '~' used to refer to home directory \n",
    "#e.g. ~/Desktop"
   ]
  },
  {
   "cell_type": "markdown",
   "id": "16eeeaca",
   "metadata": {},
   "source": [
    "### 1.3 Path separator"
   ]
  },
  {
   "cell_type": "code",
   "execution_count": null,
   "id": "7d8682b6",
   "metadata": {},
   "outputs": [],
   "source": [
    "\n",
    "# FOR MAC ==> / as path seperator"
   ]
  },
  {
   "cell_type": "markdown",
   "id": "f7195c79",
   "metadata": {},
   "source": [
    "### Text files vs Binary files"
   ]
  },
  {
   "cell_type": "code",
   "execution_count": 3,
   "id": "2dc17234",
   "metadata": {},
   "outputs": [],
   "source": [
    "\n",
    "# TEXT FILES: simple and can be opened (.txt, .md, .csv)\n",
    "\n",
    "# BINARY FILES: some processing required (.png, excel.exe)"
   ]
  },
  {
   "cell_type": "markdown",
   "id": "95a16b6e",
   "metadata": {},
   "source": [
    "### Extentions"
   ]
  },
  {
   "cell_type": "code",
   "execution_count": null,
   "id": "161a98b9",
   "metadata": {},
   "outputs": [],
   "source": [
    "\n",
    "# Your code here\n"
   ]
  },
  {
   "cell_type": "markdown",
   "id": "ac11ce86",
   "metadata": {},
   "source": [
    "### 1.4 Opening and closing files"
   ]
  },
  {
   "cell_type": "code",
   "execution_count": null,
   "id": "e6ef8a3b",
   "metadata": {},
   "outputs": [],
   "source": [
    "\n",
    "# Your code here\n"
   ]
  },
  {
   "cell_type": "markdown",
   "id": "8db65698",
   "metadata": {},
   "source": [
    "## 2 Playing with the OS"
   ]
  },
  {
   "cell_type": "markdown",
   "id": "2371bea3",
   "metadata": {},
   "source": [
    "### 2.1 Some packages"
   ]
  },
  {
   "cell_type": "code",
   "execution_count": null,
   "id": "4215892a",
   "metadata": {},
   "outputs": [],
   "source": [
    "\n",
    "# Your code here\n"
   ]
  },
  {
   "cell_type": "markdown",
   "id": "b45b99f9",
   "metadata": {},
   "source": [
    "### 2.2 OS safe paths"
   ]
  },
  {
   "cell_type": "code",
   "execution_count": null,
   "id": "f4b0f6fe",
   "metadata": {},
   "outputs": [],
   "source": [
    "\n",
    "# Your code here\n"
   ]
  },
  {
   "cell_type": "markdown",
   "id": "0706e8ec",
   "metadata": {},
   "source": [
    "### 2.3 Creating folders"
   ]
  },
  {
   "cell_type": "code",
   "execution_count": null,
   "id": "014a426e",
   "metadata": {},
   "outputs": [],
   "source": [
    "\n",
    "# Your code here\n"
   ]
  },
  {
   "cell_type": "markdown",
   "id": "ad6ce941",
   "metadata": {},
   "source": [
    "### 2.4 Checking for existence"
   ]
  },
  {
   "cell_type": "code",
   "execution_count": null,
   "id": "4471b491",
   "metadata": {},
   "outputs": [],
   "source": [
    "\n",
    "# Your code here\n"
   ]
  },
  {
   "cell_type": "markdown",
   "id": "1f7a8274",
   "metadata": {},
   "source": [
    "### 2.5 Copying files"
   ]
  },
  {
   "cell_type": "code",
   "execution_count": null,
   "id": "c9ff3002",
   "metadata": {},
   "outputs": [],
   "source": [
    "\n",
    "# Your code here\n"
   ]
  },
  {
   "cell_type": "markdown",
   "id": "e806a8fb",
   "metadata": {},
   "source": [
    "### 2.6 Listing files"
   ]
  },
  {
   "cell_type": "code",
   "execution_count": null,
   "id": "68b2add0",
   "metadata": {},
   "outputs": [],
   "source": [
    "\n",
    "# Your code here\n"
   ]
  },
  {
   "cell_type": "markdown",
   "id": "99e3b9b1",
   "metadata": {},
   "source": [
    "### 2.7 Moving about"
   ]
  },
  {
   "cell_type": "code",
   "execution_count": null,
   "id": "4d66b6ef",
   "metadata": {},
   "outputs": [],
   "source": [
    "\n",
    "# Your code here\n"
   ]
  },
  {
   "cell_type": "markdown",
   "id": "c1bc0a6b",
   "metadata": {},
   "source": [
    "### 2.8 Extracting Info"
   ]
  },
  {
   "cell_type": "code",
   "execution_count": null,
   "id": "b7e6d282",
   "metadata": {},
   "outputs": [],
   "source": [
    "\n",
    "# Your code here\n"
   ]
  },
  {
   "cell_type": "markdown",
   "id": "26b60243",
   "metadata": {},
   "source": [
    "### 2.9 Deleting stuff"
   ]
  },
  {
   "cell_type": "code",
   "execution_count": null,
   "id": "3e695f2e",
   "metadata": {},
   "outputs": [],
   "source": [
    "\n",
    "# Your code here\n"
   ]
  },
  {
   "cell_type": "markdown",
   "id": "7f304e36",
   "metadata": {},
   "source": [
    "## Exercise 7 :  The OS is my oyster"
   ]
  },
  {
   "cell_type": "code",
   "execution_count": null,
   "id": "e9998fe9",
   "metadata": {},
   "outputs": [],
   "source": [
    "\n",
    "\n",
    "\n",
    "# Your solution here\n",
    "\n",
    "\n"
   ]
  },
  {
   "cell_type": "markdown",
   "id": "bf734022",
   "metadata": {},
   "source": [
    "## Exercise 8 :  Tidying a collaboration"
   ]
  },
  {
   "cell_type": "code",
   "execution_count": null,
   "id": "9104f5f5",
   "metadata": {},
   "outputs": [],
   "source": [
    "\n",
    "\n",
    "\n",
    "# Your solution here\n",
    "\n",
    "\n"
   ]
  }
 ],
 "metadata": {
  "kernelspec": {
   "display_name": "Python 3 (ipykernel)",
   "language": "python",
   "name": "python3"
  },
  "language_info": {
   "codemirror_mode": {
    "name": "ipython",
    "version": 3
   },
   "file_extension": ".py",
   "mimetype": "text/x-python",
   "name": "python",
   "nbconvert_exporter": "python",
   "pygments_lexer": "ipython3",
   "version": "3.10.8"
  },
  "toc": {
   "base_numbering": 1,
   "nav_menu": {},
   "number_sections": true,
   "sideBar": true,
   "skip_h1_title": false,
   "title_cell": "Table of Contents",
   "title_sidebar": "Contents",
   "toc_cell": false,
   "toc_position": {},
   "toc_section_display": true,
   "toc_window_display": false
  },
  "varInspector": {
   "cols": {
    "lenName": 16,
    "lenType": 16,
    "lenVar": 40
   },
   "kernels_config": {
    "python": {
     "delete_cmd_postfix": "",
     "delete_cmd_prefix": "del ",
     "library": "var_list.py",
     "varRefreshCmd": "print(var_dic_list())"
    },
    "r": {
     "delete_cmd_postfix": ") ",
     "delete_cmd_prefix": "rm(",
     "library": "var_list.r",
     "varRefreshCmd": "cat(var_dic_list()) "
    }
   },
   "types_to_exclude": [
    "module",
    "function",
    "builtin_function_or_method",
    "instance",
    "_Feature"
   ],
   "window_display": false
  },
  "vscode": {
   "interpreter": {
    "hash": "31f2aee4e71d21fbe5cf8b01ff0e069b9275f58929596ceb00d14d90e3e16cd6"
   }
  }
 },
 "nbformat": 4,
 "nbformat_minor": 5
}
