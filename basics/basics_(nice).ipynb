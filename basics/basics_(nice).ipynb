{
 "cells": [
  {
   "cell_type": "markdown",
   "id": "123456",
   "metadata": {},
   "source": [
    "<div style=\"text-align:left;font-size:2em\"><span style=\"font-weight:bolder;font-size:1.25em\">SP2273 | Learning Portfolio</span><br><br><span style=\"font-weight:bold;color:darkred\">Basics (Nice)</span></div>"
   ]
  },
  {
   "cell_type": "markdown",
   "id": "ab52a1f2",
   "metadata": {},
   "source": [
    "## 1 Beyond Python Basics"
   ]
  },
  {
   "cell_type": "markdown",
   "id": "0ab8a622",
   "metadata": {},
   "source": [
    "### 1.1 If if is not enough"
   ]
  },
  {
   "cell_type": "code",
   "execution_count": 3,
   "id": "24089de9",
   "metadata": {},
   "outputs": [
    {
     "name": "stdout",
     "output_type": "stream",
     "text": [
      "Hello Sidekick | Robin\n"
     ]
    }
   ],
   "source": [
    "name = 'robin'\n",
    "\n",
    "match name:\n",
    "    case 'batman':\n",
    "        print('Hello Hero | Batman')\n",
    "    case 'robin':\n",
    "        print('Hello Sidekick | Robin')\n",
    "\n"
   ]
  },
  {
   "cell_type": "markdown",
   "id": "6f17f4e4",
   "metadata": {},
   "source": [
    "### 1.2 Ternary operators or Conditional Statements"
   ]
  },
  {
   "cell_type": "code",
   "execution_count": 14,
   "id": "eadb8a58",
   "metadata": {
    "scrolled": true
   },
   "outputs": [
    {
     "name": "stdout",
     "output_type": "stream",
     "text": [
      "bonjour\n"
     ]
    }
   ],
   "source": [
    "nationality = 'french'\n",
    "greeting = \"bonjour\" if nationality == 'french' else \"bye\"\n",
    "print(greeting)"
   ]
  },
  {
   "cell_type": "code",
   "execution_count": 18,
   "id": "eb3c8b78",
   "metadata": {},
   "outputs": [
    {
     "data": {
      "text/plain": [
       "'bonjour!'"
      ]
     },
     "execution_count": 18,
     "metadata": {},
     "output_type": "execute_result"
    }
   ],
   "source": [
    "nationality = 'french'\n",
    "(\"hello!\",\"bonjour!\")[nationality == 'french']"
   ]
  },
  {
   "cell_type": "code",
   "execution_count": 40,
   "id": "c4877ee4",
   "metadata": {},
   "outputs": [
    {
     "name": "stdout",
     "output_type": "stream",
     "text": [
      "no message\n"
     ]
    }
   ],
   "source": [
    "text = None\n",
    "message = text or \"no message\"\n",
    "print(message)"
   ]
  },
  {
   "cell_type": "code",
   "execution_count": 43,
   "id": "c219f25b",
   "metadata": {},
   "outputs": [
    {
     "name": "stdout",
     "output_type": "stream",
     "text": [
      "effiel tower\n"
     ]
    }
   ],
   "source": [
    "nationality = 'chi'\n",
    "greeting = 'bonjour' if nationality == 'french' else 'effiel tower'\n",
    "print(greeting)"
   ]
  },
  {
   "cell_type": "markdown",
   "id": "ad0ef5dc",
   "metadata": {},
   "source": [
    "### 1.3 Swapping values"
   ]
  },
  {
   "cell_type": "code",
   "execution_count": 50,
   "id": "bed58193",
   "metadata": {},
   "outputs": [
    {
     "name": "stdout",
     "output_type": "stream",
     "text": [
      "30 24\n"
     ]
    }
   ],
   "source": [
    "a, b = 24, 30    #only numbers? if want swap words cannot? \n",
    "a, b = b, a\n",
    "print(a, b)  "
   ]
  },
  {
   "cell_type": "markdown",
   "id": "a9b39129",
   "metadata": {},
   "source": [
    "### 1.4 Never compare floats directly"
   ]
  },
  {
   "cell_type": "code",
   "execution_count": 52,
   "id": "780827b4",
   "metadata": {},
   "outputs": [
    {
     "data": {
      "text/plain": [
       "False"
      ]
     },
     "execution_count": 52,
     "metadata": {},
     "output_type": "execute_result"
    }
   ],
   "source": [
    "a = 0.1\n",
    "a3 = 0.3\n",
    "a * 3 == a3"
   ]
  },
  {
   "cell_type": "code",
   "execution_count": 54,
   "id": "be2bb3ea",
   "metadata": {},
   "outputs": [
    {
     "data": {
      "text/plain": [
       "True"
      ]
     },
     "execution_count": 54,
     "metadata": {},
     "output_type": "execute_result"
    }
   ],
   "source": [
    "b = 5\n",
    "b2 = 125\n",
    "b ** 3 == b2"
   ]
  },
  {
   "cell_type": "code",
   "execution_count": 55,
   "id": "a26e0fa2",
   "metadata": {},
   "outputs": [
    {
     "name": "stdout",
     "output_type": "stream",
     "text": [
      "0.29999999999999999\n"
     ]
    }
   ],
   "source": [
    "print(f\"{0.3:1.17f}\")"
   ]
  },
  {
   "cell_type": "code",
   "execution_count": 69,
   "id": "28c7d5af",
   "metadata": {},
   "outputs": [
    {
     "name": "stdout",
     "output_type": "stream",
     "text": [
      "True\n"
     ]
    }
   ],
   "source": [
    "eps = 1E-16\n",
    "print(abs(a * 3 - a3) < eps)"
   ]
  },
  {
   "cell_type": "code",
   "execution_count": 57,
   "id": "68faab45",
   "metadata": {},
   "outputs": [
    {
     "name": "stdout",
     "output_type": "stream",
     "text": [
      "True\n"
     ]
    }
   ],
   "source": [
    "print(np.isclose(a * 3, a3))"
   ]
  },
  {
   "cell_type": "markdown",
   "id": "20bb8653",
   "metadata": {},
   "source": [
    "### 1.5 Operator precedance"
   ]
  },
  {
   "cell_type": "code",
   "execution_count": null,
   "id": "7dc1f28f",
   "metadata": {},
   "outputs": [],
   "source": [
    "\n",
    "# Your code here\n"
   ]
  },
  {
   "cell_type": "markdown",
   "id": "8cddb9e5",
   "metadata": {},
   "source": [
    "## 2 Variables in Python"
   ]
  },
  {
   "cell_type": "markdown",
   "id": "95b82a9f",
   "metadata": {},
   "source": [
    "### 2.1 Variables in Python are just names"
   ]
  },
  {
   "cell_type": "code",
   "execution_count": null,
   "id": "c6c5e641",
   "metadata": {},
   "outputs": [],
   "source": [
    "\n",
    "# Your code here\n"
   ]
  },
  {
   "cell_type": "markdown",
   "id": "a929cb76",
   "metadata": {},
   "source": [
    "### 2.2 == is not the same as is"
   ]
  },
  {
   "cell_type": "code",
   "execution_count": null,
   "id": "deb2a712",
   "metadata": {},
   "outputs": [],
   "source": [
    "\n",
    "# Your code here\n"
   ]
  }
 ],
 "metadata": {
  "kernelspec": {
   "display_name": "Python 3 (ipykernel)",
   "language": "python",
   "name": "python3"
  },
  "language_info": {
   "codemirror_mode": {
    "name": "ipython",
    "version": 3
   },
   "file_extension": ".py",
   "mimetype": "text/x-python",
   "name": "python",
   "nbconvert_exporter": "python",
   "pygments_lexer": "ipython3",
   "version": "3.10.8"
  },
  "toc": {
   "base_numbering": 1,
   "nav_menu": {},
   "number_sections": true,
   "sideBar": true,
   "skip_h1_title": false,
   "title_cell": "Table of Contents",
   "title_sidebar": "Contents",
   "toc_cell": false,
   "toc_position": {},
   "toc_section_display": true,
   "toc_window_display": false
  },
  "varInspector": {
   "cols": {
    "lenName": 16,
    "lenType": 16,
    "lenVar": 40
   },
   "kernels_config": {
    "python": {
     "delete_cmd_postfix": "",
     "delete_cmd_prefix": "del ",
     "library": "var_list.py",
     "varRefreshCmd": "print(var_dic_list())"
    },
    "r": {
     "delete_cmd_postfix": ") ",
     "delete_cmd_prefix": "rm(",
     "library": "var_list.r",
     "varRefreshCmd": "cat(var_dic_list()) "
    }
   },
   "types_to_exclude": [
    "module",
    "function",
    "builtin_function_or_method",
    "instance",
    "_Feature"
   ],
   "window_display": false
  },
  "vscode": {
   "interpreter": {
    "hash": "31f2aee4e71d21fbe5cf8b01ff0e069b9275f58929596ceb00d14d90e3e16cd6"
   }
  }
 },
 "nbformat": 4,
 "nbformat_minor": 5
}
