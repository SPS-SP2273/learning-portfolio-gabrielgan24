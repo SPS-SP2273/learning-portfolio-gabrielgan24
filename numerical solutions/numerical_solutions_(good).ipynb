{
 "cells": [
  {
   "cell_type": "markdown",
   "id": "123456",
   "metadata": {},
   "source": [
    "<div style=\"text-align:left;font-size:2em\"><span style=\"font-weight:bolder;font-size:1.25em\">SP2273 | Learning Portfolio</span><br><br><span style=\"font-weight:bold;color:darkred\">Numerical Solutions (Good)</span></div>"
   ]
  },
  {
   "cell_type": "markdown",
   "id": "30eda602",
   "metadata": {},
   "source": [
    "## 1 Differential Equations and Euler"
   ]
  },
  {
   "cell_type": "markdown",
   "id": "07670ed2",
   "metadata": {},
   "source": [
    "### 1.2 What do we mean by changes?"
   ]
  },
  {
   "cell_type": "code",
   "execution_count": null,
   "id": "fdb2dbea",
   "metadata": {},
   "outputs": [],
   "source": [
    "#many diff parameters"
   ]
  },
  {
   "cell_type": "markdown",
   "id": "71ca5f45",
   "metadata": {},
   "source": [
    "### 1.3 Calculus: Meaning and Notation"
   ]
  },
  {
   "cell_type": "code",
   "execution_count": null,
   "id": "3662a313",
   "metadata": {},
   "outputs": [],
   "source": [
    "\n",
    "# Your code here\n"
   ]
  },
  {
   "cell_type": "markdown",
   "id": "c80c6cdf",
   "metadata": {},
   "source": [
    "### 1.4 Calculus: Getting a feel for \\(\\dfrac{dN}{dt}\\)"
   ]
  },
  {
   "cell_type": "code",
   "execution_count": null,
   "id": "94d89e2f",
   "metadata": {},
   "outputs": [],
   "source": [
    "#K (carrying capacity) used to represetn MAXIMUM \n"
   ]
  },
  {
   "cell_type": "markdown",
   "id": "097ef6c4",
   "metadata": {},
   "source": [
    "### 1.5 Solving Differential Equations"
   ]
  },
  {
   "cell_type": "markdown",
   "id": "c196d651",
   "metadata": {},
   "source": [
    "Analytical\n",
    "Numerical method (euler method)"
   ]
  },
  {
   "cell_type": "markdown",
   "id": "5ba9d7ee",
   "metadata": {},
   "source": [
    "### 1.6 The Euler Method"
   ]
  },
  {
   "cell_type": "code",
   "execution_count": null,
   "id": "be7b244e",
   "metadata": {},
   "outputs": [],
   "source": [
    "\n",
    "# Your code here\n"
   ]
  },
  {
   "cell_type": "markdown",
   "id": "6d5106d9",
   "metadata": {},
   "source": [
    "### 1.7 Using Euler for the logistic equation"
   ]
  },
  {
   "cell_type": "code",
   "execution_count": null,
   "id": "c360022f",
   "metadata": {},
   "outputs": [],
   "source": [
    "\n",
    "# Your code here\n"
   ]
  },
  {
   "cell_type": "markdown",
   "id": "3356e9cc",
   "metadata": {},
   "source": [
    "### 1.8 Some things to note about the code"
   ]
  },
  {
   "cell_type": "code",
   "execution_count": null,
   "id": "4b78935a",
   "metadata": {},
   "outputs": [],
   "source": [
    "\n",
    "# Your code here\n"
   ]
  },
  {
   "cell_type": "markdown",
   "id": "76769b18",
   "metadata": {},
   "source": [
    "## 2 Coupled Differential Equations: Predator-Prey Model"
   ]
  },
  {
   "cell_type": "markdown",
   "id": "9af9fbc5",
   "metadata": {},
   "source": [
    "### 2.1 The equations"
   ]
  },
  {
   "cell_type": "code",
   "execution_count": null,
   "id": "0e9265cf",
   "metadata": {},
   "outputs": [],
   "source": [
    "\n",
    "# Your code here\n"
   ]
  },
  {
   "cell_type": "markdown",
   "id": "8f9006e1",
   "metadata": {},
   "source": [
    "### 2.2 Example code"
   ]
  },
  {
   "cell_type": "code",
   "execution_count": null,
   "id": "b696b114",
   "metadata": {},
   "outputs": [],
   "source": [
    "\n",
    "# Your code here\n"
   ]
  },
  {
   "cell_type": "markdown",
   "id": "79f6bff9",
   "metadata": {},
   "source": [
    "### 2.3 Some things to note about the code"
   ]
  },
  {
   "cell_type": "code",
   "execution_count": null,
   "id": "4cf6b817",
   "metadata": {},
   "outputs": [],
   "source": [
    "\n",
    "# Your code here\n"
   ]
  },
  {
   "cell_type": "markdown",
   "id": "5b21da63",
   "metadata": {},
   "source": [
    "## 3 Hello SciPy"
   ]
  },
  {
   "cell_type": "markdown",
   "id": "f3c70701",
   "metadata": {},
   "source": [
    "### 3.1 SciPy odeint()"
   ]
  },
  {
   "cell_type": "code",
   "execution_count": null,
   "id": "6abbeaa6",
   "metadata": {},
   "outputs": [],
   "source": [
    "\n",
    "# Your code here\n"
   ]
  },
  {
   "cell_type": "markdown",
   "id": "65751803",
   "metadata": {},
   "source": [
    "### 3.2 Radioactivity"
   ]
  },
  {
   "cell_type": "code",
   "execution_count": null,
   "id": "46cb02d6",
   "metadata": {},
   "outputs": [],
   "source": [
    "\n",
    "# Your code here\n"
   ]
  },
  {
   "cell_type": "markdown",
   "id": "ce71bd57",
   "metadata": {},
   "source": [
    "### 3.3 Logistic Equation"
   ]
  },
  {
   "cell_type": "code",
   "execution_count": null,
   "id": "5a30d341",
   "metadata": {},
   "outputs": [],
   "source": [
    "\n",
    "# Your code here\n"
   ]
  },
  {
   "cell_type": "markdown",
   "id": "d4c2d17c",
   "metadata": {},
   "source": [
    "### 3.4 Predator-Prey"
   ]
  },
  {
   "cell_type": "code",
   "execution_count": null,
   "id": "75117e16",
   "metadata": {},
   "outputs": [],
   "source": [
    "\n",
    "# Your code here\n"
   ]
  },
  {
   "cell_type": "markdown",
   "id": "67168e36",
   "metadata": {},
   "source": [
    "## Exercise 1 :  The Lorentz Attaractor"
   ]
  },
  {
   "cell_type": "code",
   "execution_count": null,
   "id": "3d622e5e",
   "metadata": {},
   "outputs": [],
   "source": [
    "\n",
    "\n",
    "\n",
    "# Your solution here\n",
    "\n",
    "\n"
   ]
  }
 ],
 "metadata": {
  "kernelspec": {
   "display_name": "Python 3 (ipykernel)",
   "language": "python",
   "name": "python3"
  },
  "language_info": {
   "codemirror_mode": {
    "name": "ipython",
    "version": 3
   },
   "file_extension": ".py",
   "mimetype": "text/x-python",
   "name": "python",
   "nbconvert_exporter": "python",
   "pygments_lexer": "ipython3",
   "version": "3.10.8"
  },
  "toc": {
   "base_numbering": 1,
   "nav_menu": {},
   "number_sections": true,
   "sideBar": true,
   "skip_h1_title": false,
   "title_cell": "Table of Contents",
   "title_sidebar": "Contents",
   "toc_cell": false,
   "toc_position": {},
   "toc_section_display": true,
   "toc_window_display": false
  },
  "varInspector": {
   "cols": {
    "lenName": 16,
    "lenType": 16,
    "lenVar": 40
   },
   "kernels_config": {
    "python": {
     "delete_cmd_postfix": "",
     "delete_cmd_prefix": "del ",
     "library": "var_list.py",
     "varRefreshCmd": "print(var_dic_list())"
    },
    "r": {
     "delete_cmd_postfix": ") ",
     "delete_cmd_prefix": "rm(",
     "library": "var_list.r",
     "varRefreshCmd": "cat(var_dic_list()) "
    }
   },
   "types_to_exclude": [
    "module",
    "function",
    "builtin_function_or_method",
    "instance",
    "_Feature"
   ],
   "window_display": false
  },
  "vscode": {
   "interpreter": {
    "hash": "31f2aee4e71d21fbe5cf8b01ff0e069b9275f58929596ceb00d14d90e3e16cd6"
   }
  }
 },
 "nbformat": 4,
 "nbformat_minor": 5
}
