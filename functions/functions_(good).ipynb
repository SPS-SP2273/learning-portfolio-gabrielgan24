{
 "cells": [
  {
   "cell_type": "markdown",
   "id": "123456",
   "metadata": {},
   "source": [
    "<div style=\"text-align:left;font-size:2em\"><span style=\"font-weight:bolder;font-size:1.25em\">SP2273 | Learning Portfolio</span><br><br><span style=\"font-weight:bold;color:darkred\">Functions (Good)</span></div>"
   ]
  },
  {
   "cell_type": "markdown",
   "id": "f6b53572",
   "metadata": {},
   "source": [
    "## 1 Check, balances and contingencies"
   ]
  },
  {
   "cell_type": "markdown",
   "id": "bba55598",
   "metadata": {},
   "source": [
    "### 1.1 assert"
   ]
  },
  {
   "cell_type": "code",
   "execution_count": 2,
   "id": "37cc3736",
   "metadata": {},
   "outputs": [],
   "source": [
    "# assert : CHECKS A CONDITION, HALTS EXECUTION IF NECESSARY, PRINT \n",
    "\n",
    "#stops the flow IF CONDITION FAILS\n",
    "\n",
    "#e.g.\n",
    "#assert condition-to-check, message"
   ]
  },
  {
   "cell_type": "code",
   "execution_count": 7,
   "id": "867e1211",
   "metadata": {},
   "outputs": [],
   "source": [
    "x = 10      \n",
    "assert x >= 0, \"x is becoming negative!\"\n",
    "\n",
    "#programme runs as long as long as condition is true"
   ]
  },
  {
   "cell_type": "code",
   "execution_count": 5,
   "id": "dc891e26",
   "metadata": {},
   "outputs": [
    {
     "ename": "AssertionError",
     "evalue": "x is becoming negative!",
     "output_type": "error",
     "traceback": [
      "\u001b[0;31m---------------------------------------------------------------------------\u001b[0m",
      "\u001b[0;31mAssertionError\u001b[0m                            Traceback (most recent call last)",
      "Cell \u001b[0;32mIn[5], line 2\u001b[0m\n\u001b[1;32m      1\u001b[0m x \u001b[38;5;241m=\u001b[39m \u001b[38;5;241m-\u001b[39m\u001b[38;5;241m1\u001b[39m\n\u001b[0;32m----> 2\u001b[0m \u001b[38;5;28;01massert\u001b[39;00m x \u001b[38;5;241m>\u001b[39m\u001b[38;5;241m=\u001b[39m \u001b[38;5;241m0\u001b[39m, \u001b[38;5;124m\"\u001b[39m\u001b[38;5;124mx is becoming negative!\u001b[39m\u001b[38;5;124m\"\u001b[39m\n",
      "\u001b[0;31mAssertionError\u001b[0m: x is becoming negative!"
     ]
    }
   ],
   "source": [
    "x = -1\n",
    "assert x >= 0, \"x is becoming negative!\""
   ]
  },
  {
   "cell_type": "markdown",
   "id": "02468723",
   "metadata": {},
   "source": [
    "### 1.2 try-except"
   ]
  },
  {
   "cell_type": "code",
   "execution_count": null,
   "id": "18b66197",
   "metadata": {},
   "outputs": [],
   "source": [
    "# try-except : catch and handle exceptions "
   ]
  },
  {
   "cell_type": "code",
   "execution_count": null,
   "id": "0f730723",
   "metadata": {},
   "outputs": [],
   "source": [
    "# input : solicit user response"
   ]
  },
  {
   "cell_type": "code",
   "execution_count": 8,
   "id": "83e4cbc0",
   "metadata": {},
   "outputs": [
    {
     "name": "stdout",
     "output_type": "stream",
     "text": [
      "Give me a number and I will calculate its square.99\n",
      "The square of 99 is 9801!\n"
     ]
    }
   ],
   "source": [
    "number=input(\"Give me a number and I will calculate its square.\")\n",
    "square=int(number)**2              # Convert English to number\n",
    "print(f'The square of {number} is {square}!')"
   ]
  },
  {
   "cell_type": "code",
   "execution_count": 10,
   "id": "f6537faa",
   "metadata": {},
   "outputs": [
    {
     "name": "stdout",
     "output_type": "stream",
     "text": [
      "Give me a number and I will calculate its square.78h\n",
      "Oh oh! I cannot square 78h!\n"
     ]
    }
   ],
   "source": [
    "# but what if input is not a number (e.g. 'hahaha')\n",
    "\n",
    "try:\n",
    "    number=input(\"Give me a number and I will calculate its square.\")\n",
    "    square=int(number)**2\n",
    "    print(f'The square of {number} is {square}!')\n",
    "except:\n",
    "    print(f\"Oh oh! I cannot square {number}!\")"
   ]
  },
  {
   "cell_type": "code",
   "execution_count": 11,
   "id": "f05b5af4",
   "metadata": {},
   "outputs": [],
   "source": [
    "#if smt goes wrong, python ignores error, runs code in the except block"
   ]
  },
  {
   "cell_type": "markdown",
   "id": "3c1855b5",
   "metadata": {},
   "source": [
    "## 2 Some loose ends"
   ]
  },
  {
   "cell_type": "markdown",
   "id": "f21f114b",
   "metadata": {},
   "source": [
    "Three ways to pass a value to an argument\n",
    "1) Positional\n",
    "2) Keyword\n",
    "3) Default"
   ]
  },
  {
   "cell_type": "markdown",
   "id": "6a292e2f",
   "metadata": {},
   "source": [
    "### 2.1 Positional, keyword and default arguments"
   ]
  },
  {
   "cell_type": "code",
   "execution_count": 17,
   "id": "c73ead0f",
   "metadata": {},
   "outputs": [
    {
     "data": {
      "text/plain": [
       "121"
      ]
     },
     "execution_count": 17,
     "metadata": {},
     "output_type": "execute_result"
    }
   ],
   "source": [
    "funny_add(1, 2)           # Two positional, 1 default\n",
    "#> 121\n",
    "funny_add(1, 2, 3)        # Three positional\n",
    "#> 321\n",
    "funny_add(a=1, b=2)       # Two keyword, 1 default\n",
    "#> 121\n",
    "funny_add(c=3, b=1, a=2)  # Three keyword\n",
    "#> 312\n",
    "funny_add(1, c=3, b=2)    # One positional, 2 keyword\n",
    "#> 321\n",
    "funny_add(1, b=2)         # One positional, 1 keyword, 1 default\n",
    "#> 121\n"
   ]
  },
  {
   "cell_type": "code",
   "execution_count": 18,
   "id": "a485485c",
   "metadata": {},
   "outputs": [
    {
     "ename": "SyntaxError",
     "evalue": "positional argument follows keyword argument (1521717268.py, line 3)",
     "output_type": "error",
     "traceback": [
      "\u001b[0;36m  Cell \u001b[0;32mIn[18], line 3\u001b[0;36m\u001b[0m\n\u001b[0;31m    funny_add(a=2, 1)         # Won't work.\u001b[0m\n\u001b[0m                    ^\u001b[0m\n\u001b[0;31mSyntaxError\u001b[0m\u001b[0;31m:\u001b[0m positional argument follows keyword argument\n"
     ]
    }
   ],
   "source": [
    "#DOES NOT WORK\n",
    "\n",
    "funny_add(a=2, 1)         # Won't work.\n",
    "                          # Keywords cannot be followed by \n",
    "                          # positional"
   ]
  },
  {
   "cell_type": "code",
   "execution_count": 22,
   "id": "950c5e52",
   "metadata": {},
   "outputs": [],
   "source": [
    "def funny_add(a, b, c=1):\n",
    "    return a + 10*b + 100*c       #assign 1,2,3 to a,b,c\n",
    "                                  #using positional order of arguments"
   ]
  },
  {
   "cell_type": "code",
   "execution_count": 24,
   "id": "e54eb3dd",
   "metadata": {},
   "outputs": [
    {
     "data": {
      "text/plain": [
       "432"
      ]
     },
     "execution_count": 24,
     "metadata": {},
     "output_type": "execute_result"
    }
   ],
   "source": [
    "funny_add(2,3,4)"
   ]
  },
  {
   "cell_type": "code",
   "execution_count": 14,
   "id": "1f89e87c",
   "metadata": {},
   "outputs": [],
   "source": [
    "#another way: explicitly specify keyword to assign values\n",
    "#by calling function as funny_add(c=3, b=1, a=2)"
   ]
  },
  {
   "cell_type": "markdown",
   "id": "9eb751cb",
   "metadata": {},
   "source": [
    "### 2.2 Docstrings"
   ]
  },
  {
   "cell_type": "code",
   "execution_count": 26,
   "id": "65b25332",
   "metadata": {},
   "outputs": [],
   "source": [
    "\n",
    "# docstring : allow to document what function does inside the function\n",
    "# NEEDS TO BE SANDWICHED BETWEEN PAIR OF ' ' ' OR \" \" \"\n",
    "#shown when we ask help()"
   ]
  },
  {
   "cell_type": "code",
   "execution_count": 25,
   "id": "d8ba2ab5",
   "metadata": {},
   "outputs": [],
   "source": [
    "def funny_add(a, b, c=1):\n",
    "    '''\n",
    "    A test function to demonstrate how \n",
    "    positional, keyword and default arguments \n",
    "    work.\n",
    "    '''\n",
    "    return a + 10*b + 100*c"
   ]
  },
  {
   "cell_type": "code",
   "execution_count": 27,
   "id": "ae5a2317",
   "metadata": {},
   "outputs": [
    {
     "name": "stdout",
     "output_type": "stream",
     "text": [
      "Help on function funny_add in module __main__:\n",
      "\n",
      "funny_add(a, b, c=1)\n",
      "    A test function to demonstrate how \n",
      "    positional, keyword and default arguments \n",
      "    work.\n",
      "\n"
     ]
    }
   ],
   "source": [
    "help(funny_add)"
   ]
  },
  {
   "cell_type": "code",
   "execution_count": null,
   "id": "7381cd74",
   "metadata": {},
   "outputs": [],
   "source": [
    "# docstrings CAN be used for writing multiline comments"
   ]
  },
  {
   "cell_type": "markdown",
   "id": "c3c8b19f",
   "metadata": {},
   "source": [
    "### 2.3 Function are first class citizens"
   ]
  },
  {
   "cell_type": "code",
   "execution_count": null,
   "id": "7a64fee5",
   "metadata": {},
   "outputs": [],
   "source": [
    "\n",
    "# Python allows us to PASS A FUNCTION AS AN ARGUMENT TO ANOTHER FUNTION"
   ]
  },
  {
   "cell_type": "code",
   "execution_count": 32,
   "id": "251295da",
   "metadata": {},
   "outputs": [
    {
     "data": {
      "text/plain": [
       "1.0"
      ]
     },
     "execution_count": 32,
     "metadata": {},
     "output_type": "execute_result"
    }
   ],
   "source": [
    "def my_function(angle, trig_function):\n",
    "        return trig_function(angle)\n",
    "\n",
    "# Let's use the function\n",
    "my_function(np.pi/2, np.sin)        "
   ]
  },
  {
   "cell_type": "code",
   "execution_count": 30,
   "id": "87278997",
   "metadata": {},
   "outputs": [
    {
     "data": {
      "text/plain": [
       "6.123233995736766e-17"
      ]
     },
     "execution_count": 30,
     "metadata": {},
     "output_type": "execute_result"
    }
   ],
   "source": [
    "my_function(np.pi/2, np.cos) "
   ]
  },
  {
   "cell_type": "code",
   "execution_count": 31,
   "id": "1b04f19f",
   "metadata": {},
   "outputs": [
    {
     "data": {
      "text/plain": [
       "-1.0"
      ]
     },
     "execution_count": 31,
     "metadata": {},
     "output_type": "execute_result"
    }
   ],
   "source": [
    "my_function(np.pi/2, lambda x: np.cos(2*x)) "
   ]
  },
  {
   "cell_type": "code",
   "execution_count": null,
   "id": "52237751",
   "metadata": {},
   "outputs": [],
   "source": [
    "# WHEN WE PASS FUNCTION AS AN ARGUMENT => DO NOT INCLUDE ()"
   ]
  },
  {
   "cell_type": "markdown",
   "id": "35592b06",
   "metadata": {},
   "source": [
    "### 2.4 More unpacking"
   ]
  },
  {
   "cell_type": "code",
   "execution_count": 29,
   "id": "439b0089",
   "metadata": {},
   "outputs": [],
   "source": [
    "\n",
    "# UNPACKING CAN MAKE EXTRACTING INFORMATIONS FROM LIST AND ARRAYS EASY\n"
   ]
  },
  {
   "cell_type": "code",
   "execution_count": 33,
   "id": "773294dc",
   "metadata": {},
   "outputs": [
    {
     "name": "stdout",
     "output_type": "stream",
     "text": [
      "1 2 3\n"
     ]
    }
   ],
   "source": [
    "#EXAMPLE 1\n",
    "\n",
    "x, y, z = [1, 2, 3]\n",
    "print(x, y, z)"
   ]
  },
  {
   "cell_type": "code",
   "execution_count": 34,
   "id": "9f03469f",
   "metadata": {},
   "outputs": [
    {
     "name": "stdout",
     "output_type": "stream",
     "text": [
      "1 2 3\n"
     ]
    }
   ],
   "source": [
    "#EXAMPLE 2\n",
    "\n",
    "x, y, z = np.array([1, 2, 3])\n",
    "print(x, y, z)"
   ]
  },
  {
   "cell_type": "code",
   "execution_count": 35,
   "id": "e6e661e2",
   "metadata": {},
   "outputs": [
    {
     "name": "stdout",
     "output_type": "stream",
     "text": [
      "1 [2, 3, 4] 5\n"
     ]
    }
   ],
   "source": [
    "#EXAMPLE 3 (*y)\n",
    "\n",
    "x, *y, z = np.array([1, 2, 3, 4, 5])\n",
    "print(x, y, z)"
   ]
  },
  {
   "cell_type": "code",
   "execution_count": 36,
   "id": "dd7b9f6c",
   "metadata": {},
   "outputs": [
    {
     "name": "stdout",
     "output_type": "stream",
     "text": [
      "1 5\n"
     ]
    }
   ],
   "source": [
    "#EXAMPLE 4 (*_)\n",
    "\n",
    "x, *_, y = [1, 2, 3, 4, 5]\n",
    "print(x, y)"
   ]
  },
  {
   "cell_type": "markdown",
   "id": "22b2cddc",
   "metadata": {},
   "source": [
    "## Exercise 1 :  A better calculator I"
   ]
  },
  {
   "cell_type": "code",
   "execution_count": 44,
   "id": "dac018db",
   "metadata": {},
   "outputs": [],
   "source": [
    "x=np.array([36, 34, 44, 76, 27])\n",
    "y=np.array([64, 66, 56, 24, 73])"
   ]
  },
  {
   "cell_type": "code",
   "execution_count": 39,
   "id": "550e3583",
   "metadata": {},
   "outputs": [
    {
     "name": "stdout",
     "output_type": "stream",
     "text": [
      "6\n"
     ]
    }
   ],
   "source": [
    "def add(x,y):\n",
    "    return x + y\n",
    "print (add(x,y))"
   ]
  },
  {
   "cell_type": "code",
   "execution_count": 38,
   "id": "957d3e56",
   "metadata": {},
   "outputs": [
    {
     "name": "stdout",
     "output_type": "stream",
     "text": [
      "-4\n"
     ]
    }
   ],
   "source": [
    "def subtract(x,y):\n",
    "    return x - y\n",
    "print (subtract(x,y))"
   ]
  },
  {
   "cell_type": "code",
   "execution_count": 68,
   "id": "0e6ba524",
   "metadata": {},
   "outputs": [
    {
     "data": {
      "text/plain": [
       "array([2304, 2244, 2464, 1824,    0])"
      ]
     },
     "execution_count": 68,
     "metadata": {},
     "output_type": "execute_result"
    }
   ],
   "source": [
    "def multiply(x,y):\n",
    "    return x * y\n",
    "multiply(x,y)"
   ]
  },
  {
   "cell_type": "code",
   "execution_count": 79,
   "id": "d6b6e4c5",
   "metadata": {},
   "outputs": [
    {
     "ename": "AssertionError",
     "evalue": "error",
     "output_type": "error",
     "traceback": [
      "\u001b[0;31m---------------------------------------------------------------------------\u001b[0m",
      "\u001b[0;31mAssertionError\u001b[0m                            Traceback (most recent call last)",
      "Cell \u001b[0;32mIn[79], line 9\u001b[0m\n\u001b[1;32m      6\u001b[0m         \u001b[38;5;28;01massert\u001b[39;00m value \u001b[38;5;241m!=\u001b[39m \u001b[38;5;241m0\u001b[39m,\u001b[38;5;124m'\u001b[39m\u001b[38;5;124merror\u001b[39m\u001b[38;5;124m'\u001b[39m\n\u001b[1;32m      7\u001b[0m     \u001b[38;5;28;01mreturn\u001b[39;00m x \u001b[38;5;241m/\u001b[39m y\n\u001b[0;32m----> 9\u001b[0m \u001b[43mdivide\u001b[49m\u001b[43m(\u001b[49m\u001b[43mx\u001b[49m\u001b[43m,\u001b[49m\u001b[43my\u001b[49m\u001b[43m)\u001b[49m\n",
      "Cell \u001b[0;32mIn[79], line 6\u001b[0m, in \u001b[0;36mdivide\u001b[0;34m(x, y)\u001b[0m\n\u001b[1;32m      4\u001b[0m \u001b[38;5;28;01mdef\u001b[39;00m \u001b[38;5;21mdivide\u001b[39m(x,y):\n\u001b[1;32m      5\u001b[0m     \u001b[38;5;28;01mfor\u001b[39;00m value \u001b[38;5;129;01min\u001b[39;00m y:\n\u001b[0;32m----> 6\u001b[0m         \u001b[38;5;28;01massert\u001b[39;00m value \u001b[38;5;241m!=\u001b[39m \u001b[38;5;241m0\u001b[39m,\u001b[38;5;124m'\u001b[39m\u001b[38;5;124merror\u001b[39m\u001b[38;5;124m'\u001b[39m\n\u001b[1;32m      7\u001b[0m     \u001b[38;5;28;01mreturn\u001b[39;00m x \u001b[38;5;241m/\u001b[39m y\n",
      "\u001b[0;31mAssertionError\u001b[0m: error"
     ]
    }
   ],
   "source": [
    "x=np.array([36, 34, 44, 76, 27])\n",
    "y=np.array([64, 66, 56, 24, 0])\n",
    "\n",
    "def divide(x,y):\n",
    "    for value in y:\n",
    "        assert value != 0,'error'\n",
    "    return x / y\n",
    "\n",
    "divide(x,y)"
   ]
  },
  {
   "cell_type": "markdown",
   "id": "8c14363e",
   "metadata": {},
   "source": [
    "## Exercise 2 :  A better calculator II"
   ]
  },
  {
   "cell_type": "code",
   "execution_count": 72,
   "id": "e2390bb7",
   "metadata": {},
   "outputs": [],
   "source": [
    "x=np.array([36, 34, 44, 76, 27])\n",
    "y=np.array([64, 66, 56, 24, 73])"
   ]
  },
  {
   "cell_type": "code",
   "execution_count": 88,
   "id": "1b61cfbc",
   "metadata": {},
   "outputs": [
    {
     "name": "stdout",
     "output_type": "stream",
     "text": [
      "error\n"
     ]
    }
   ],
   "source": [
    "x=np.array([36, 34, 44, 76, 27])\n",
    "y=np.array([64, 66, 56, 24, 0])\n",
    "\n",
    "def divide(x,y):\n",
    "    \n",
    "    try:\n",
    "        for value in y:\n",
    "            assert value != 0\n",
    "        return x / y\n",
    "    \n",
    "    except: \n",
    "        print('error')\n",
    "\n",
    "divide(x,y)"
   ]
  },
  {
   "cell_type": "code",
   "execution_count": 92,
   "id": "d5b55953",
   "metadata": {},
   "outputs": [
    {
     "name": "stdout",
     "output_type": "stream",
     "text": [
      "error\n"
     ]
    },
    {
     "name": "stderr",
     "output_type": "stream",
     "text": [
      "/var/folders/fv/h6xblgrj2k1d0g0kcf67r8xh0000gn/T/ipykernel_5823/2945152992.py:7: FutureWarning: elementwise comparison failed; returning scalar instead, but in the future will perform elementwise comparison\n",
      "  for value in y != 0:\n"
     ]
    }
   ],
   "source": [
    "x=np.array([36, 34, 44, 76, 27])\n",
    "y=np.array([64, 66, 56, 24, \"9\"])\n",
    "\n",
    "def divide(x,y):\n",
    "    \n",
    "    try:\n",
    "        for value in y != 0:\n",
    "            return x / y\n",
    "    \n",
    "    except: \n",
    "        print('error')\n",
    "\n",
    "divide(x,y)"
   ]
  },
  {
   "cell_type": "code",
   "execution_count": 98,
   "id": "4821e19f",
   "metadata": {},
   "outputs": [
    {
     "name": "stdout",
     "output_type": "stream",
     "text": [
      "[0.5625     0.51515152 0.78571429 3.16666667 0.36986301]\n",
      "[0.5625     0.51515152 0.78571429 3.16666667 0.36986301]\n",
      "[0.5625     0.51515152 0.78571429 3.16666667 0.36986301]\n",
      "[0.5625     0.51515152 0.78571429 3.16666667 0.36986301]\n",
      "[0.5625     0.51515152 0.78571429 3.16666667 0.36986301]\n"
     ]
    }
   ],
   "source": [
    "x=np.array([36, 34, 44, 76, 27])\n",
    "y=np.array([64, 66, 56, 24, 73])\n",
    "\n",
    "def divide(x,y):\n",
    "    \n",
    "    for value in y:\n",
    "        try:\n",
    "            value != 0\n",
    "            print(x / y)\n",
    "        except:\n",
    "            print('error')\n",
    "        \n",
    "divide(x,y)"
   ]
  },
  {
   "cell_type": "code",
   "execution_count": null,
   "id": "0c91d263",
   "metadata": {},
   "outputs": [],
   "source": []
  }
 ],
 "metadata": {
  "kernelspec": {
   "display_name": "Python 3 (ipykernel)",
   "language": "python",
   "name": "python3"
  },
  "language_info": {
   "codemirror_mode": {
    "name": "ipython",
    "version": 3
   },
   "file_extension": ".py",
   "mimetype": "text/x-python",
   "name": "python",
   "nbconvert_exporter": "python",
   "pygments_lexer": "ipython3",
   "version": "3.10.8"
  },
  "toc": {
   "base_numbering": 1,
   "nav_menu": {},
   "number_sections": true,
   "sideBar": true,
   "skip_h1_title": false,
   "title_cell": "Table of Contents",
   "title_sidebar": "Contents",
   "toc_cell": false,
   "toc_position": {},
   "toc_section_display": true,
   "toc_window_display": false
  },
  "varInspector": {
   "cols": {
    "lenName": 16,
    "lenType": 16,
    "lenVar": 40
   },
   "kernels_config": {
    "python": {
     "delete_cmd_postfix": "",
     "delete_cmd_prefix": "del ",
     "library": "var_list.py",
     "varRefreshCmd": "print(var_dic_list())"
    },
    "r": {
     "delete_cmd_postfix": ") ",
     "delete_cmd_prefix": "rm(",
     "library": "var_list.r",
     "varRefreshCmd": "cat(var_dic_list()) "
    }
   },
   "types_to_exclude": [
    "module",
    "function",
    "builtin_function_or_method",
    "instance",
    "_Feature"
   ],
   "window_display": false
  },
  "vscode": {
   "interpreter": {
    "hash": "31f2aee4e71d21fbe5cf8b01ff0e069b9275f58929596ceb00d14d90e3e16cd6"
   }
  }
 },
 "nbformat": 4,
 "nbformat_minor": 5
}
